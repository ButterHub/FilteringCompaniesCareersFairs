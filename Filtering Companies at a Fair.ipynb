{
 "cells": [
  {
   "cell_type": "code",
   "execution_count": 23,
   "metadata": {},
   "outputs": [],
   "source": [
    "import webbrowser\n",
    "from bs4 import BeautifulSoup as bs\n",
    "import urllib.request\n",
    "import json\n",
    "\n",
    "with urllib.request.urlopen('http://www.bbk.ac.uk/student-services/careers-service/birkbeck-careers-fair') as f:\n",
    "    data = f.read().decode('utf-8')\n",
    "soup = bs(data, 'html.parser')\n",
    "companies = soup.find_all(class_=\"content-pull-down\")[1].find_all(\"strong\")\n",
    "companyList = {}\n",
    "for company in companies:\n",
    "    companyList[company.text] = {\"rating\": 0}\n",
    "\n",
    "for i in companyList:\n",
    "    companyList[i][\"search_name\"] = i.replace(' ', '+')"
   ]
  },
  {
   "cell_type": "code",
   "execution_count": 36,
   "metadata": {},
   "outputs": [
    {
     "data": {
      "text/plain": [
       "{'Alliance Visas': {'rating': ' 3.7', 'search_name': 'Alliance+Visas'},\n",
       " 'ASOS': {'rating': ' 3.6', 'search_name': 'ASOS'},\n",
       " 'Betway Group': {'rating': ' 3.4', 'search_name': 'Betway+Group'},\n",
       " 'Binti': {'rating': 0, 'search_name': 'Binti'},\n",
       " 'Bio Nano Consulting': {'rating': 0, 'search_name': 'Bio+Nano+Consulting'},\n",
       " 'Capco': {'rating': ' 3.8', 'search_name': 'Capco'},\n",
       " 'Centre 404': {'rating': ' 4.2', 'search_name': 'Centre+404'},\n",
       " 'Circus Street': {'rating': ' 3.4', 'search_name': 'Circus+Street'},\n",
       " 'City Year UK': {'rating': ' 3.5', 'search_name': 'City+Year+UK'},\n",
       " 'Code First Girls': {'rating': ' 4.0', 'search_name': 'Code+First+Girls'},\n",
       " 'CREST': {'rating': ' 2.9', 'search_name': 'CREST'},\n",
       " 'Dozens': {'rating': ' 4.2', 'search_name': 'Dozens'},\n",
       " 'Frontier': {'rating': ' 4.9', 'search_name': 'Frontier'},\n",
       " 'Future Frontier': {'rating': ' 3.8', 'search_name': 'Future+Frontier'},\n",
       " 'Government Social Research': {'rating': ' 4.2',\n",
       "  'search_name': 'Government+Social+Research'},\n",
       " 'Harvey Nichols': {'rating': ' 3.4', 'search_name': 'Harvey+Nichols'},\n",
       " 'HS. Live': {'rating': ' 3.1', 'search_name': 'HS.+Live'},\n",
       " 'International SOS': {'rating': ' 3.3', 'search_name': 'International+SOS'},\n",
       " 'IntoUniversity': {'rating': 0, 'search_name': 'IntoUniversity'},\n",
       " 'JobTeaser': {'rating': ' 4.4', 'search_name': 'JobTeaser'},\n",
       " 'KPMG': {'rating': ' 3.7', 'search_name': 'KPMG'},\n",
       " 'Le Cordon Bleu': {'rating': 0, 'search_name': 'Le+Cordon+Bleu'},\n",
       " 'London Fire Brigade': {'rating': ' 3.0',\n",
       "  'search_name': 'London+Fire+Brigade'},\n",
       " 'MacMillan': {'rating': ' 5.0', 'search_name': 'MacMillan+Cancer+Research'},\n",
       " 'Mayor’s Entrepreneur 2019': {'rating': 0,\n",
       "  'search_name': 'Mayor’s+Entrepreneur+2019'},\n",
       " 'Metro Bank': {'rating': 0, 'search_name': 'Metro+Bank'},\n",
       " 'Metropolitan Police': {'rating': 0, 'search_name': 'Metropolitan+Police'},\n",
       " 'Oxford Business Group Emergent Market Consultancy Company': {'rating': 0,\n",
       "  'search_name': 'Oxford+Business+Group+Emergent+Market+Consultancy+Company'},\n",
       " 'Role Models': {'rating': 0, 'search_name': 'Role+Models'},\n",
       " 'Scarborough Teaching Alliance': {'rating': 0,\n",
       "  'search_name': 'Scarborough+Teaching+Alliance'},\n",
       " 'SLV Global': {'rating': 0, 'search_name': 'SLV+Global'},\n",
       " 'Smaller Earth': {'rating': 0, 'search_name': 'Smaller+Earth'},\n",
       " 'Sparta Global': {'rating': 0, 'search_name': 'Sparta+Global'},\n",
       " 'Square One Resources': {'rating': 0, 'search_name': 'Square+One+Resources'},\n",
       " 'StartSmart': {'rating': 0, 'search_name': 'StartSmart'},\n",
       " 'Streetbees': {'rating': 0, 'search_name': 'Streetbees'},\n",
       " 'Studio Graphene': {'rating': 0, 'search_name': 'Studio+Graphene'},\n",
       " 'Teach First': {'rating': 0, 'search_name': 'Teach+First'},\n",
       " 'Thames Reach': {'rating': 0, 'search_name': 'Thames+Reach'},\n",
       " 'The Challenge': {'rating': 0, 'search_name': 'The+Challenge'},\n",
       " 'The OR Society': {'rating': 0, 'search_name': 'The+OR+Society'},\n",
       " 'Travel Teacher': {'rating': 0, 'search_name': 'Travel+Teacher'},\n",
       " 'University of Law': {'rating': 0, 'search_name': 'University+of+Law'},\n",
       " 'VOLO': {'rating': 0, 'search_name': 'VOLO'}}"
      ]
     },
     "execution_count": 36,
     "metadata": {},
     "output_type": "execute_result"
    }
   ],
   "source": [
    "# Need to update a few companies so they get searched on Glassdoor better. Macmillan -> Macmillan Cancer Research\n",
    "companyList[\"MacMillan\"][\"search_name\"] = \"MacMillan+Cancer+Research\"\n",
    "companyList"
   ]
  },
  {
   "cell_type": "code",
   "execution_count": 44,
   "metadata": {},
   "outputs": [
    {
     "name": "stdout",
     "output_type": "stream",
     "text": [
      " 3.7\n",
      " 3.6\n",
      " 3.4\n",
      "Glassdoor failure for (couldn't find a company): \n",
      " https://www.glassdoor.co.uk/Job/jobs.htm?suggestCount=0&suggestChosen=false&clickSource=searchBtn&typedKeyword=Binti&sc.keyword=Binti&locT=N&locId=2&jobType=\n",
      "Glassdoor failure for (couldn't find a company): \n",
      " https://www.glassdoor.co.uk/Job/jobs.htm?suggestCount=0&suggestChosen=false&clickSource=searchBtn&typedKeyword=Bio+Nano+Consulting&sc.keyword=Bio+Nano+Consulting&locT=N&locId=2&jobType=\n",
      " 3.8\n",
      " 4.2\n",
      " 5.0\n",
      " 3.5\n",
      " 4.0\n",
      " 2.9\n",
      " 3.2\n",
      " 4.9\n",
      " 3.8\n",
      " 4.2\n",
      " 3.4\n",
      " 4.5\n",
      " 3.3\n",
      "Glassdoor failure for (couldn't find a company): \n",
      " https://www.glassdoor.co.uk/Job/jobs.htm?suggestCount=0&suggestChosen=false&clickSource=searchBtn&typedKeyword=IntoUniversity&sc.keyword=IntoUniversity&locT=N&locId=2&jobType=\n",
      " 4.4\n",
      " 3.7\n",
      "Glassdoor failure for (couldn't find a company): \n",
      " https://www.glassdoor.co.uk/Job/jobs.htm?suggestCount=0&suggestChosen=false&clickSource=searchBtn&typedKeyword=Le+Cordon+Bleu&sc.keyword=Le+Cordon+Bleu&locT=N&locId=2&jobType=\n",
      " 3.0\n",
      " 3.2\n",
      "Urlopen failure for: \n",
      " https://www.glassdoor.co.uk/Job/jobs.htm?suggestCount=0&suggestChosen=false&clickSource=searchBtn&typedKeyword=Mayor’s+Entrepreneur+2019&sc.keyword=Mayor’s+Entrepreneur+2019&locT=N&locId=2&jobType=\n",
      " 4.1\n",
      " 2.9\n",
      " 3.1\n",
      " 4.6\n",
      "Glassdoor failure for (couldn't find a company): \n",
      " https://www.glassdoor.co.uk/Job/jobs.htm?suggestCount=0&suggestChosen=false&clickSource=searchBtn&typedKeyword=Scarborough+Teaching+Alliance&sc.keyword=Scarborough+Teaching+Alliance&locT=N&locId=2&jobType=\n",
      " 4.7\n",
      "Glassdoor failure for (couldn't find a company): \n",
      " https://www.glassdoor.co.uk/Job/jobs.htm?suggestCount=0&suggestChosen=false&clickSource=searchBtn&typedKeyword=Smaller+Earth&sc.keyword=Smaller+Earth&locT=N&locId=2&jobType=\n",
      " 3.1\n",
      " 3.8\n",
      "Glassdoor failure for (couldn't find a company): \n",
      " https://www.glassdoor.co.uk/Job/jobs.htm?suggestCount=0&suggestChosen=false&clickSource=searchBtn&typedKeyword=StartSmart&sc.keyword=StartSmart&locT=N&locId=2&jobType=\n",
      " 3.4\n",
      "Glassdoor failure for (couldn't find a company): \n",
      " https://www.glassdoor.co.uk/Job/jobs.htm?suggestCount=0&suggestChosen=false&clickSource=searchBtn&typedKeyword=Studio+Graphene&sc.keyword=Studio+Graphene&locT=N&locId=2&jobType=\n",
      " 3.4\n",
      " 3.8\n",
      " 5.0\n",
      " 3.8\n",
      " 5.0\n",
      " 4.0\n",
      "Glassdoor failure for (couldn't find a company): \n",
      " https://www.glassdoor.co.uk/Job/jobs.htm?suggestCount=0&suggestChosen=false&clickSource=searchBtn&typedKeyword=VOLO&sc.keyword=VOLO&locT=N&locId=2&jobType=\n"
     ]
    }
   ],
   "source": [
    "user_agent = 'Mozilla/5.0 (Windows; U; Windows NT 5.1; en-US; rv:1.9.0.7) Gecko/2009021910 Firefox/3.0.7'\n",
    "headers={'User-Agent':user_agent,} \n",
    "\n",
    "for companyName, value in companyList.items():\n",
    "    search_name = value[\"search_name\"]\n",
    "    get_request = \"https://www.glassdoor.co.uk/Job/jobs.htm?suggestCount=0&suggestChosen=false&clickSource=searchBtn&typedKeyword={}&sc.keyword={}&locT=N&locId=2&jobType=\".format(search_name, search_name)\n",
    "#     print(get_request)\n",
    "    send = urllib.request.Request(get_request, headers=headers)\n",
    "    try:\n",
    "        with urllib.request.urlopen(send) as file:\n",
    "            data = file.read().decode('utf-8')\n",
    "        soup = bs(data, 'html.parser')\n",
    "        try:\n",
    "            rating = soup.find('span', class_=\"compactStars\").text\n",
    "            print(rating)\n",
    "            if float(rating) > 4:\n",
    "                webbrowser.open_new_tab(get_request)\n",
    "            companyList[companyName][\"rating\"] = rating\n",
    "        except:\n",
    "            print(\"Glassdoor failure for (couldn't find a company): \\n\", get_request)\n",
    "    except:\n",
    "        print(\"Urlopen failure for: \\n\", get_request)\n",
    "    \n",
    "# Select companies with rating > 4 and print."
   ]
  },
  {
   "cell_type": "code",
   "execution_count": 43,
   "metadata": {},
   "outputs": [
    {
     "name": "stdout",
     "output_type": "stream",
     "text": [
      "Centre 404\n",
      "Circus Street\n",
      "Dozens\n",
      "Frontier\n",
      "Government Social Research\n",
      "HS. Live\n",
      "JobTeaser\n",
      "Metro Bank\n",
      "SLV Global\n",
      "The Challenge\n"
     ]
    }
   ],
   "source": [
    "for companyName, value in companyList.items():\n",
    "    if float(value[\"rating\"]) > 4:\n",
    "        print(companyName)"
   ]
  },
  {
   "cell_type": "code",
   "execution_count": null,
   "metadata": {},
   "outputs": [],
   "source": []
  }
 ],
 "metadata": {
  "kernelspec": {
   "display_name": "Python 3",
   "language": "python",
   "name": "python3"
  },
  "language_info": {
   "codemirror_mode": {
    "name": "ipython",
    "version": 3
   },
   "file_extension": ".py",
   "mimetype": "text/x-python",
   "name": "python",
   "nbconvert_exporter": "python",
   "pygments_lexer": "ipython3",
   "version": "3.6.5"
  }
 },
 "nbformat": 4,
 "nbformat_minor": 2
}
